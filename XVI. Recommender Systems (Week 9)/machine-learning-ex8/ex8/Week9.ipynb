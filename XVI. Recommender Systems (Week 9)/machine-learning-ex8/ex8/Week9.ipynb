{
 "cells": [
  {
   "cell_type": "code",
   "execution_count": 1,
   "metadata": {},
   "outputs": [],
   "source": [
    "% Machine Learning Online Class\n",
    "%  Exercise 8 | Anomaly Detection and Collaborative Filtering\n",
    "%\n",
    "%  Instructions\n",
    "%  ------------\n",
    "%\n",
    "%  This file contains code that helps you get started on the\n",
    "%  exercise. You will need to complete the following functions:\n",
    "%\n",
    "%     estimateGaussian.m\n",
    "%     selectThreshold.m\n",
    "%     cofiCostFunc.m\n",
    "%\n",
    "%  For this exercise, you will not need to change any code in this file,\n",
    "%  or any other files other than those mentioned above.\n",
    "%\n",
    "\n",
    "%% Initialization\n",
    "clear ; close all; clc"
   ]
  },
  {
   "cell_type": "code",
   "execution_count": 2,
   "metadata": {},
   "outputs": [
    {
     "name": "stdout",
     "output_type": "stream",
     "text": [
      "Visualizing example dataset for outlier detection.\n",
      "\n"
     ]
    },
    {
     "data": {
      "image/png": "[encoded data removed]",
      "text/plain": [
       "<IPython.core.display.Image object>"
      ]
     },
     "metadata": {},
     "output_type": "display_data"
    }
   ],
   "source": [
    "%% ================== Part 1: Load Example Dataset  ===================\n",
    "%  We start this exercise by using a small dataset that is easy to\n",
    "%  visualize.\n",
    "%\n",
    "%  Our example case consists of 2 network server statistics across\n",
    "%  several machines: the latency and throughput of each machine.\n",
    "%  This exercise will help us find possibly faulty (or very fast) machines.\n",
    "%\n",
    "\n",
    "fprintf('Visualizing example dataset for outlier detection.\\n\\n');\n",
    "\n",
    "%  The following command loads the dataset. You should now have the\n",
    "%  variables X, Xval, yval in your environment\n",
    "load('ex8data1.mat');\n",
    "\n",
    "%  Visualize the example dataset\n",
    "plot(X(:, 1), X(:, 2), 'bx');\n",
    "axis([0 30 0 30]);\n",
    "xlabel('Latency (ms)');\n",
    "ylabel('Throughput (mb/s)');"
   ]
  },
  {
   "cell_type": "code",
   "execution_count": 5,
   "metadata": {},
   "outputs": [
    {
     "name": "stdout",
     "output_type": "stream",
     "text": [
      "Visualizing Gaussian fit.\n",
      "\n"
     ]
    },
    {
     "data": {
      "image/png": "[encoded data removed]",
      "text/plain": [
       "<IPython.core.display.Image object>"
      ]
     },
     "metadata": {},
     "output_type": "display_data"
    }
   ],
   "source": [
    "%% ================== Part 2: Estimate the dataset statistics ===================\n",
    "%  For this exercise, we assume a Gaussian distribution for the dataset.\n",
    "%\n",
    "%  We first estimate the parameters of our assumed Gaussian distribution, \n",
    "%  then compute the probabilities for each of the points and then visualize \n",
    "%  both the overall distribution and where each of the points falls in \n",
    "%  terms of that distribution.\n",
    "%\n",
    "fprintf('Visualizing Gaussian fit.\\n\\n');\n",
    "\n",
    "%  Estimate my and sigma2\n",
    "[mu sigma2] = estimateGaussian(X);\n",
    "\n",
    "%  Returns the density of the multivariate normal at each data point (row) \n",
    "%  of X\n",
    "p = multivariateGaussian(X, mu, sigma2);\n",
    "\n",
    "%  Visualize the fit\n",
    "visualizeFit(X,  mu, sigma2);\n",
    "xlabel('Latency (ms)');\n",
    "ylabel('Throughput (mb/s)');\n",
    "\n"
   ]
  },
  {
   "cell_type": "code",
   "execution_count": null,
   "metadata": {},
   "outputs": [],
   "source": [
    "%% ================== Part 3: Find Outliers ===================\n",
    "%  Now you will find a good epsilon threshold using a cross-validation set\n",
    "%  probabilities given the estimated Gaussian distribution\n",
    "% \n",
    "\n",
    "pval = multivariateGaussian(Xval, mu, sigma2);\n",
    "\n",
    "[epsilon F1] = selectThreshold(yval, pval);\n",
    "fprintf('Best epsilon found using cross-validation: %e\\n', epsilon);\n",
    "fprintf('Best F1 on Cross Validation Set:  %f\\n', F1);\n",
    "fprintf('   (you should see a value epsilon of about 8.99e-05)\\n');\n",
    "fprintf('   (you should see a Best F1 value of  0.875000)\\n\\n');\n",
    "\n",
    "%  Find the outliers in the training set and plot the\n",
    "outliers = find(p < epsilon);\n",
    "\n",
    "%  Draw a red circle around those outliers\n",
    "hold on\n",
    "plot(X(outliers, 1), X(outliers, 2), 'ro', 'LineWidth', 2, 'MarkerSize', 10);\n",
    "hold off"
   ]
  },
  {
   "cell_type": "code",
   "execution_count": null,
   "metadata": {},
   "outputs": [],
   "source": [
    "%% ================== Part 4: Multidimensional Outliers ===================\n",
    "%  We will now use the code from the previous part and apply it to a \n",
    "%  harder problem in which more features describe each datapoint and only \n",
    "%  some features indicate whether a point is an outlier.\n",
    "%\n",
    "\n",
    "%  Loads the second dataset. You should now have the\n",
    "%  variables X, Xval, yval in your environment\n",
    "load('ex8data2.mat');\n",
    "\n",
    "%  Apply the same steps to the larger dataset\n",
    "[mu sigma2] = estimateGaussian(X);\n",
    "\n",
    "%  Training set \n",
    "p = multivariateGaussian(X, mu, sigma2);\n",
    "\n",
    "%  Cross-validation set\n",
    "pval = multivariateGaussian(Xval, mu, sigma2);\n",
    "\n",
    "%  Find the best threshold\n",
    "[epsilon F1] = selectThreshold(yval, pval);\n",
    "\n",
    "fprintf('Best epsilon found using cross-validation: %e\\n', epsilon);\n",
    "fprintf('Best F1 on Cross Validation Set:  %f\\n', F1);\n",
    "fprintf('   (you should see a value epsilon of about 1.38e-18)\\n');\n",
    "fprintf('   (you should see a Best F1 value of 0.615385)\\n');\n",
    "fprintf('# Outliers found: %d\\n\\n', sum(p < epsilon));"
   ]
  },
  {
   "cell_type": "code",
   "execution_count": null,
   "metadata": {},
   "outputs": [],
   "source": []
  }
 ],
 "metadata": {
  "kernelspec": {
   "display_name": "Octave",
   "language": "octave",
   "name": "octave"
  },
  "language_info": {
   "file_extension": ".m",
   "help_links": [
    {
     "text": "GNU Octave",
     "url": "https://www.gnu.org/software/octave/support.html"
    },
    {
     "text": "Octave Kernel",
     "url": "https://github.com/Calysto/octave_kernel"
    },
    {
     "text": "MetaKernel Magics",
     "url": "https://github.com/calysto/metakernel/blob/master/metakernel/magics/README.md"
    }
   ],
   "mimetype": "text/x-octave",
   "name": "octave",
   "version": "4.2.1"
  }
 },
 "nbformat": 4,
 "nbformat_minor": 2
}
